{
 "cells": [
  {
   "cell_type": "code",
   "execution_count": 1,
   "id": "moderate-sussex",
   "metadata": {},
   "outputs": [],
   "source": [
    "# Binary Search\n",
    "# Input: sorted array of numbers, element to search for\n",
    "# Output: index of element\n",
    "# jupyter-lab"
   ]
  },
  {
   "cell_type": "code",
   "execution_count": 2,
   "id": "radio-techno",
   "metadata": {},
   "outputs": [],
   "source": [
    "import random"
   ]
  },
  {
   "cell_type": "code",
   "execution_count": 3,
   "id": "hollywood-offering",
   "metadata": {},
   "outputs": [],
   "source": [
    "num_elements = 10"
   ]
  },
  {
   "cell_type": "code",
   "execution_count": 4,
   "id": "rental-worse",
   "metadata": {},
   "outputs": [],
   "source": [
    "def printArr(arr, start, end):\n",
    "    s = []\n",
    "    for i in range(0, len(arr)):\n",
    "        if i >= start and i <= end:\n",
    "            s.append(str(arr[i]))\n",
    "        else:\n",
    "            s.append(\"  \")\n",
    "    print(' '.join(map(str, [str(x).ljust(2, ' ') for x in s] )))"
   ]
  },
  {
   "cell_type": "code",
   "execution_count": 5,
   "id": "stuffed-settle",
   "metadata": {},
   "outputs": [
    {
     "name": "stdout",
     "output_type": "stream",
     "text": [
      "[19, 22, 24, 27, 33, 44, 56, 59, 86, 96]\n"
     ]
    }
   ],
   "source": [
    "arr = random.sample(range(1, 100), num_elements)\n",
    "arr.sort()\n",
    "print(arr)"
   ]
  },
  {
   "cell_type": "code",
   "execution_count": 6,
   "id": "surprised-deadline",
   "metadata": {},
   "outputs": [],
   "source": [
    "# Define the element to search for\n",
    "search = 78"
   ]
  },
  {
   "cell_type": "code",
   "execution_count": 7,
   "id": "dental-favor",
   "metadata": {},
   "outputs": [
    {
     "name": "stdout",
     "output_type": "stream",
     "text": [
      "0  1  2  3  4  5  6  7  8  9\n",
      "------------------------------\n",
      "19 22 24 27 33 44 56 59 86 96\n",
      "               44 56 59 86 96\n",
      "                        86 96\n",
      "Element not found\n"
     ]
    }
   ],
   "source": [
    "start = 0\n",
    "end = len(arr) - 1\n",
    "result = -1\n",
    "\n",
    "print('  '.join(map(str, (range(0, len(arr))))))\n",
    "print(''.join(['-']*(num_elements*3)))\n",
    "\n",
    "while start <= end:\n",
    "    mid = int((start + end) / 2)\n",
    "    \n",
    "    printArr(arr, start, end)\n",
    "    \n",
    "    if search < arr[mid]:\n",
    "        end = mid - 1\n",
    "    elif search > arr[mid]:\n",
    "        start = mid + 1\n",
    "    else:\n",
    "        result = mid\n",
    "        break\n",
    "    \n",
    "if result > -1:\n",
    "    print(\"%d is at index %d\" % (search, result))\n",
    "else:\n",
    "    print(\"Element not found\")"
   ]
  },
  {
   "cell_type": "code",
   "execution_count": null,
   "id": "danish-record",
   "metadata": {},
   "outputs": [],
   "source": []
  },
  {
   "cell_type": "code",
   "execution_count": null,
   "id": "specific-airline",
   "metadata": {},
   "outputs": [],
   "source": []
  }
 ],
 "metadata": {
  "kernelspec": {
   "display_name": "Python 3",
   "language": "python",
   "name": "python3"
  },
  "language_info": {
   "codemirror_mode": {
    "name": "ipython",
    "version": 3
   },
   "file_extension": ".py",
   "mimetype": "text/x-python",
   "name": "python",
   "nbconvert_exporter": "python",
   "pygments_lexer": "ipython3",
   "version": "3.8.3"
  }
 },
 "nbformat": 4,
 "nbformat_minor": 5
}
