{
 "cells": [
  {
   "cell_type": "code",
   "execution_count": 40,
   "id": "twelve-appreciation",
   "metadata": {},
   "outputs": [],
   "source": [
    "# Merge Sort\n",
    "# Input: unsorted array\n",
    "# Output: sorted array\n",
    "# jupyter-lab"
   ]
  },
  {
   "cell_type": "code",
   "execution_count": 41,
   "id": "western-patrol",
   "metadata": {},
   "outputs": [],
   "source": [
    "# MergeSort(arr[], l,  r)\n",
    "# If r > l\n",
    "#      1. Find the middle point to divide the array into two halves:  \n",
    "#              middle m = l+ (r-l)/2\n",
    "#      2. Call mergeSort for first half:   \n",
    "#              Call mergeSort(arr, l, m)\n",
    "#      3. Call mergeSort for second half:\n",
    "#              Call mergeSort(arr, m+1, r)\n",
    "#      4. Merge the two halves sorted in step 2 and 3:\n",
    "#              Call merge(arr, l, m, r)"
   ]
  },
  {
   "cell_type": "code",
   "execution_count": 42,
   "id": "competitive-melissa",
   "metadata": {},
   "outputs": [],
   "source": [
    "import random"
   ]
  },
  {
   "cell_type": "code",
   "execution_count": 54,
   "id": "continuous-squad",
   "metadata": {},
   "outputs": [],
   "source": [
    "num_elements = 8"
   ]
  },
  {
   "cell_type": "code",
   "execution_count": 55,
   "id": "indonesian-editor",
   "metadata": {},
   "outputs": [
    {
     "name": "stdout",
     "output_type": "stream",
     "text": [
      "[62, 45, 30, 20, 95, 17, 47, 29]\n"
     ]
    }
   ],
   "source": [
    "arr = random.sample(range(1, 100), num_elements)\n",
    "print(arr)"
   ]
  },
  {
   "cell_type": "code",
   "execution_count": 45,
   "id": "relevant-tobago",
   "metadata": {},
   "outputs": [],
   "source": [
    "def mergeSort(arr):\n",
    "    mid = int(len(arr) / 2)\n",
    "    if len(arr) > 1:\n",
    "        return merge(mergeSort(arr[0:mid]), mergeSort(arr[mid:]))\n",
    "    else:\n",
    "        return arr"
   ]
  },
  {
   "cell_type": "code",
   "execution_count": 46,
   "id": "compact-certification",
   "metadata": {},
   "outputs": [],
   "source": [
    "# Combine arrays by comparing two lists until one list is empty\n",
    "def merge(arr1, arr2):\n",
    "    merged = []\n",
    "    total = len(arr1) + len(arr2)\n",
    "    a1 = 0\n",
    "    a2 = 0\n",
    "    while a1 < len(arr1) and a2 < len(arr2):\n",
    "        if arr1[a1] < arr2[a2]:\n",
    "            merged = merged + [arr1[a1]]\n",
    "            a1 += 1\n",
    "        else:\n",
    "            merged = merged + [arr2[a2]]\n",
    "            a2 += 1\n",
    "    # Add the rest of the items to the new list\n",
    "    if a1 < len(arr1):\n",
    "        merged = merged + arr1[a1:]\n",
    "    elif a2 < len(arr2):\n",
    "        merged = merged + arr2[a2:]\n",
    "    return merged"
   ]
  },
  {
   "cell_type": "code",
   "execution_count": 56,
   "id": "prostate-andrews",
   "metadata": {},
   "outputs": [
    {
     "data": {
      "text/plain": [
       "[17, 20, 29, 30, 45, 47, 62, 95]"
      ]
     },
     "execution_count": 56,
     "metadata": {},
     "output_type": "execute_result"
    }
   ],
   "source": [
    "mergeSort(arr)"
   ]
  },
  {
   "cell_type": "code",
   "execution_count": null,
   "id": "previous-parade",
   "metadata": {},
   "outputs": [],
   "source": []
  }
 ],
 "metadata": {
  "kernelspec": {
   "display_name": "Python 3",
   "language": "python",
   "name": "python3"
  },
  "language_info": {
   "codemirror_mode": {
    "name": "ipython",
    "version": 3
   },
   "file_extension": ".py",
   "mimetype": "text/x-python",
   "name": "python",
   "nbconvert_exporter": "python",
   "pygments_lexer": "ipython3",
   "version": "3.8.3"
  }
 },
 "nbformat": 4,
 "nbformat_minor": 5
}
