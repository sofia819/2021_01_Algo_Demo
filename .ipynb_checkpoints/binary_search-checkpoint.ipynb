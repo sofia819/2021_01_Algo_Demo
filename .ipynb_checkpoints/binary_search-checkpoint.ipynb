{
 "cells": [
  {
   "cell_type": "code",
   "execution_count": 1,
   "id": "bridal-plenty",
   "metadata": {},
   "outputs": [],
   "source": [
    "# Binary Search\n",
    "# Input: sorted array of numbers, element to search for\n",
    "# Output: index of element\n",
    "# jupyter-lab"
   ]
  },
  {
   "cell_type": "code",
   "execution_count": null,
   "id": "looking-ottawa",
   "metadata": {},
   "outputs": [],
   "source": [
    "# Procedure binary_search\n",
    "#    A ← sorted array\n",
    "#    n ← size of array\n",
    "#    x ← value to be searched\n",
    "\n",
    "#    Set lowerBound = 1\n",
    "#    Set upperBound = n \n",
    "\n",
    "#    while x not found\n",
    "#       if upperBound < lowerBound \n",
    "#          EXIT: x does not exists.\n",
    "   \n",
    "#       set midPoint = lowerBound + ( upperBound - lowerBound ) / 2\n",
    "      \n",
    "#       if A[midPoint] < x\n",
    "#          set lowerBound = midPoint + 1\n",
    "         \n",
    "#       if A[midPoint] > x\n",
    "#          set upperBound = midPoint - 1 \n",
    "\n",
    "#       if A[midPoint] = x \n",
    "#          EXIT: x found at location midPoint\n",
    "#    end while\n",
    "   \n",
    "# end procedure"
   ]
  },
  {
   "cell_type": "code",
   "execution_count": 2,
   "id": "smart-maker",
   "metadata": {},
   "outputs": [],
   "source": [
    "import random"
   ]
  },
  {
   "cell_type": "code",
   "execution_count": 3,
   "id": "broad-mustang",
   "metadata": {},
   "outputs": [],
   "source": [
    "num_elements = 10"
   ]
  },
  {
   "cell_type": "code",
   "execution_count": 4,
   "id": "pending-smooth",
   "metadata": {},
   "outputs": [],
   "source": [
    "def printArr(arr, start, end):\n",
    "    s = []\n",
    "    for i in range(0, len(arr)):\n",
    "        if i >= start and i <= end:\n",
    "            s.append(str(arr[i]))\n",
    "        else:\n",
    "            s.append(\"  \")\n",
    "    print(' '.join(map(str, [str(x).ljust(2, ' ') for x in s] )))"
   ]
  },
  {
   "cell_type": "code",
   "execution_count": 5,
   "id": "other-platinum",
   "metadata": {},
   "outputs": [
    {
     "name": "stdout",
     "output_type": "stream",
     "text": [
      "[9, 13, 34, 35, 38, 49, 57, 77, 82, 95]\n"
     ]
    }
   ],
   "source": [
    "arr = random.sample(range(1, 100), num_elements)\n",
    "arr.sort()\n",
    "print(arr)"
   ]
  },
  {
   "cell_type": "code",
   "execution_count": 27,
   "id": "younger-welcome",
   "metadata": {},
   "outputs": [],
   "source": [
    "def binary_search(arr, search):\n",
    "    start = 0\n",
    "    end = len(arr) - 1\n",
    "    result = -1\n",
    "\n",
    "    while start <= end:\n",
    "        mid = int((start + end) / 2)\n",
    "\n",
    "        printArr(arr, start, end)\n",
    "\n",
    "        if search < arr[mid]:\n",
    "            end = mid - 1\n",
    "        elif search > arr[mid]:\n",
    "            start = mid + 1\n",
    "        else:\n",
    "            result = mid\n",
    "            break\n",
    "\n",
    "    if result > -1:\n",
    "        print(\"%d is at index %d\" % (search, result))\n",
    "    else:\n",
    "        print(\"Value %d not found\" % (search))"
   ]
  },
  {
   "cell_type": "code",
   "execution_count": 25,
   "id": "hawaiian-arnold",
   "metadata": {},
   "outputs": [
    {
     "name": "stdin",
     "output_type": "stream",
     "text": [
      " 1\n"
     ]
    }
   ],
   "source": [
    "# Define the element to search for\n",
    "search = int(input())"
   ]
  },
  {
   "cell_type": "code",
   "execution_count": 28,
   "id": "apparent-candidate",
   "metadata": {},
   "outputs": [
    {
     "name": "stdout",
     "output_type": "stream",
     "text": [
      "0  1  2  3  4  5  6  7  8  9\n",
      "------------------------------\n",
      "9  13 34 35 38 49 57 77 82 95\n",
      "9  13 34 35                  \n",
      "9                            \n",
      "Value 1 not found\n"
     ]
    }
   ],
   "source": [
    "print('  '.join(map(str, (range(0, len(arr))))))\n",
    "print(''.join(['-']*(num_elements*3)))\n",
    "\n",
    "binary_search(arr, search)"
   ]
  },
  {
   "cell_type": "code",
   "execution_count": null,
   "id": "blank-scott",
   "metadata": {},
   "outputs": [],
   "source": []
  }
 ],
 "metadata": {
  "kernelspec": {
   "display_name": "Python 3",
   "language": "python",
   "name": "python3"
  },
  "language_info": {
   "codemirror_mode": {
    "name": "ipython",
    "version": 3
   },
   "file_extension": ".py",
   "mimetype": "text/x-python",
   "name": "python",
   "nbconvert_exporter": "python",
   "pygments_lexer": "ipython3",
   "version": "3.8.3"
  }
 },
 "nbformat": 4,
 "nbformat_minor": 5
}
